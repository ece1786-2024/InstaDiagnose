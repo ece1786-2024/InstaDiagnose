{
 "cells": [
  {
   "cell_type": "code",
   "execution_count": 1,
   "metadata": {},
   "outputs": [],
   "source": [
    "import pandas as pd"
   ]
  },
  {
   "cell_type": "code",
   "execution_count": 5,
   "metadata": {},
   "outputs": [
    {
     "name": "stdout",
     "output_type": "stream",
     "text": [
      "total number of correct diagnosis for top 4:  33\n",
      "total number of correct diagnosis for top 1:  26\n",
      "total number of diagnosis:  42\n",
      "top 1 successful_rate:  0.6190476190476191\n",
      "top 4successful_rate:  0.7857142857142857\n",
      "score:  154\n",
      "highest score:  210\n"
     ]
    }
   ],
   "source": [
    "df = pd.read_csv('full_labeled_output_model1.csv')\n",
    "top_1_successful_rate = df[\"manual_label_1\"].sum() / len(df)\n",
    "top_4_successful_rate = df[\"manual label\"].sum() / len(df)\n",
    "print(\"total number of correct diagnosis for top 4: \", df[df[\"manual label\"] == 1].shape[0])\n",
    "print(\"total number of correct diagnosis for top 1: \", df[df[\"manual_label_1\"] == 1].shape[0])\n",
    "print(\"total number of diagnosis: \", df.shape[0])\n",
    "print(\"top 1 successful_rate: \", top_1_successful_rate)\n",
    "print(\"top 4successful_rate: \", top_4_successful_rate)\n",
    "\n",
    "score = df[\"score\"].sum()\n",
    "\n",
    "print(\"score: \", score)\n",
    "print(\"highest score: \", str(len(df)*5))"
   ]
  },
  {
   "cell_type": "code",
   "execution_count": 6,
   "metadata": {},
   "outputs": [
    {
     "name": "stdout",
     "output_type": "stream",
     "text": [
      "total number of correct diagnosis for top 4:  34\n",
      "total number of correct diagnosis for top 1:  27\n",
      "total number of diagnosis:  42\n",
      "top 1 successful_rate:  0.6428571428571429\n",
      "top 4successful_rate:  0.8095238095238095\n",
      "score:  151\n",
      "highest score:  210\n"
     ]
    }
   ],
   "source": [
    "df = pd.read_csv('full_new_labeled_output_model2.csv')\n",
    "top_1_successful_rate = df[\"manual_label_1\"].sum() / len(df)\n",
    "top_4_successful_rate = df[\"manual label\"].sum() / len(df)\n",
    "print(\"total number of correct diagnosis for top 4: \", df[df[\"manual label\"] == 1].shape[0])\n",
    "print(\"total number of correct diagnosis for top 1: \", df[df[\"manual_label_1\"] == 1].shape[0])\n",
    "print(\"total number of diagnosis: \", df.shape[0])\n",
    "print(\"top 1 successful_rate: \", top_1_successful_rate)\n",
    "print(\"top 4successful_rate: \", top_4_successful_rate)\n",
    "\n",
    "score = df[\"score\"].sum()\n",
    "\n",
    "print(\"score: \", score)\n",
    "print(\"highest score: \", str(len(df)*5))"
   ]
  },
  {
   "cell_type": "code",
   "execution_count": 7,
   "metadata": {},
   "outputs": [
    {
     "name": "stdout",
     "output_type": "stream",
     "text": [
      "total number of correct diagnosis for top 4:  35\n",
      "total number of correct diagnosis for top 1:  28\n",
      "total number of diagnosis:  42\n",
      "top 1 successful_rate:  0.6666666666666666\n",
      "top 4successful_rate:  0.8333333333333334\n",
      "score:  158\n",
      "highest score:  210\n"
     ]
    }
   ],
   "source": [
    "df = pd.read_csv('full_new_labeled_output_model3.csv')\n",
    "top_1_successful_rate = df[\"manual_label_1\"].sum() / len(df)\n",
    "top_4_successful_rate = df[\"manual label\"].sum() / len(df)\n",
    "print(\"total number of correct diagnosis for top 4: \", df[df[\"manual label\"] == 1].shape[0])\n",
    "print(\"total number of correct diagnosis for top 1: \", df[df[\"manual_label_1\"] == 1].shape[0])\n",
    "print(\"total number of diagnosis: \", df.shape[0])\n",
    "print(\"top 1 successful_rate: \", top_1_successful_rate)\n",
    "print(\"top 4successful_rate: \", top_4_successful_rate)\n",
    "\n",
    "score = df[\"score\"].sum()\n",
    "\n",
    "print(\"score: \", score)\n",
    "print(\"highest score: \", str(len(df)*5))"
   ]
  },
  {
   "cell_type": "code",
   "execution_count": 9,
   "metadata": {},
   "outputs": [
    {
     "name": "stdout",
     "output_type": "stream",
     "text": [
      "total number of correct diagnosis for top 4:  35\n",
      "total number of correct diagnosis for top 1:  27\n",
      "total number of diagnosis:  42\n",
      "top 1 successful_rate:  0.6428571428571429\n",
      "top 4successful_rate:  0.8333333333333334\n",
      "score:  159\n",
      "highest score:  210\n"
     ]
    }
   ],
   "source": [
    "df = pd.read_csv('full_labeled_output_rag2.csv')\n",
    "top_1_successful_rate = df[\"manual_label_1\"].sum() / len(df)\n",
    "top_4_successful_rate = df[\"manual label\"].sum() / len(df)\n",
    "print(\"total number of correct diagnosis for top 4: \", df[df[\"manual label\"] == 1].shape[0])\n",
    "print(\"total number of correct diagnosis for top 1: \", df[df[\"manual_label_1\"] == 1].shape[0])\n",
    "print(\"total number of diagnosis: \", df.shape[0])\n",
    "print(\"top 1 successful_rate: \", top_1_successful_rate)\n",
    "print(\"top 4successful_rate: \", top_4_successful_rate)\n",
    "\n",
    "score = df[\"Score\"].sum()\n",
    "\n",
    "print(\"score: \", score)\n",
    "print(\"highest score: \", str(len(df)*5))"
   ]
  },
  {
   "cell_type": "code",
   "execution_count": 10,
   "metadata": {},
   "outputs": [
    {
     "name": "stdout",
     "output_type": "stream",
     "text": [
      "total number of correct diagnosis for top 4:  37\n",
      "total number of correct diagnosis for top 1:  32\n",
      "total number of diagnosis:  42\n",
      "top 1 successful_rate:  0.7619047619047619\n",
      "top 4successful_rate:  0.8809523809523809\n",
      "score:  175\n",
      "highest score:  210\n"
     ]
    }
   ],
   "source": [
    "df = pd.read_csv('full_output_rag3_1.csv')\n",
    "top_1_successful_rate = df[\"manual_label_1\"].sum() / len(df)\n",
    "top_4_successful_rate = df[\"manual label\"].sum() / len(df)\n",
    "print(\"total number of correct diagnosis for top 4: \", df[df[\"manual label\"] == 1].shape[0])\n",
    "print(\"total number of correct diagnosis for top 1: \", df[df[\"manual_label_1\"] == 1].shape[0])\n",
    "print(\"total number of diagnosis: \", df.shape[0])\n",
    "print(\"top 1 successful_rate: \", top_1_successful_rate)\n",
    "print(\"top 4successful_rate: \", top_4_successful_rate)\n",
    "\n",
    "score = df[\"Score\"].sum()\n",
    "\n",
    "print(\"score: \", score)\n",
    "print(\"highest score: \", str(len(df)*5))"
   ]
  },
  {
   "cell_type": "code",
   "execution_count": 11,
   "metadata": {},
   "outputs": [
    {
     "name": "stdout",
     "output_type": "stream",
     "text": [
      "\n",
      "Model Performance Comparison:\n",
      "Model  Top-1 Success Rate  Top-4 Success Rate  Score\n",
      " RAG1            0.761905            0.880952    175\n",
      " RAG2            0.761905            0.880952    175\n",
      " RAG3            0.761905            0.880952    175\n"
     ]
    }
   ],
   "source": []
  },
  {
   "cell_type": "code",
   "execution_count": null,
   "metadata": {},
   "outputs": [],
   "source": []
  }
 ],
 "metadata": {
  "kernelspec": {
   "display_name": "base",
   "language": "python",
   "name": "python3"
  },
  "language_info": {
   "codemirror_mode": {
    "name": "ipython",
    "version": 3
   },
   "file_extension": ".py",
   "mimetype": "text/x-python",
   "name": "python",
   "nbconvert_exporter": "python",
   "pygments_lexer": "ipython3",
   "version": "3.12.2"
  }
 },
 "nbformat": 4,
 "nbformat_minor": 2
}
